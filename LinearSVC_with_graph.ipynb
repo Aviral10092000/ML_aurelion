{
 "cells": [
  {
   "cell_type": "code",
   "execution_count": 118,
   "id": "37b3f0e6",
   "metadata": {},
   "outputs": [],
   "source": [
    "import pandas as pd\n",
    "import numpy as np\n",
    "\n",
    "df = pd.read_csv(\"C:\\\\Users\\\\HP\\\\Downloads\\\\Life_expectancy_dataset.csv\",encoding=\"ISO-8859-1\")"
   ]
  },
  {
   "cell_type": "code",
   "execution_count": 119,
   "id": "e87eb74a",
   "metadata": {},
   "outputs": [
    {
     "data": {
      "text/html": [
       "<div>\n",
       "<style scoped>\n",
       "    .dataframe tbody tr th:only-of-type {\n",
       "        vertical-align: middle;\n",
       "    }\n",
       "\n",
       "    .dataframe tbody tr th {\n",
       "        vertical-align: top;\n",
       "    }\n",
       "\n",
       "    .dataframe thead th {\n",
       "        text-align: right;\n",
       "    }\n",
       "</style>\n",
       "<table border=\"1\" class=\"dataframe\">\n",
       "  <thead>\n",
       "    <tr style=\"text-align: right;\">\n",
       "      <th></th>\n",
       "      <th>Rank</th>\n",
       "      <th>Country</th>\n",
       "      <th>Overall Life</th>\n",
       "      <th>Male Life</th>\n",
       "      <th>Female Life</th>\n",
       "      <th>Continent</th>\n",
       "    </tr>\n",
       "  </thead>\n",
       "  <tbody>\n",
       "    <tr>\n",
       "      <th>0</th>\n",
       "      <td>1</td>\n",
       "      <td>Monaco</td>\n",
       "      <td>89.5</td>\n",
       "      <td>85.6</td>\n",
       "      <td>93.5</td>\n",
       "      <td>Europe</td>\n",
       "    </tr>\n",
       "    <tr>\n",
       "      <th>1</th>\n",
       "      <td>2</td>\n",
       "      <td>Japan</td>\n",
       "      <td>85.0</td>\n",
       "      <td>81.7</td>\n",
       "      <td>88.5</td>\n",
       "      <td>Asia</td>\n",
       "    </tr>\n",
       "    <tr>\n",
       "      <th>2</th>\n",
       "      <td>3</td>\n",
       "      <td>Singapore</td>\n",
       "      <td>85.0</td>\n",
       "      <td>82.3</td>\n",
       "      <td>87.8</td>\n",
       "      <td>Asia</td>\n",
       "    </tr>\n",
       "    <tr>\n",
       "      <th>3</th>\n",
       "      <td>4</td>\n",
       "      <td>Macau; China</td>\n",
       "      <td>84.5</td>\n",
       "      <td>81.6</td>\n",
       "      <td>87.6</td>\n",
       "      <td>Asia</td>\n",
       "    </tr>\n",
       "    <tr>\n",
       "      <th>4</th>\n",
       "      <td>5</td>\n",
       "      <td>San Marino</td>\n",
       "      <td>83.3</td>\n",
       "      <td>80.7</td>\n",
       "      <td>86.1</td>\n",
       "      <td>Europe</td>\n",
       "    </tr>\n",
       "    <tr>\n",
       "      <th>...</th>\n",
       "      <td>...</td>\n",
       "      <td>...</td>\n",
       "      <td>...</td>\n",
       "      <td>...</td>\n",
       "      <td>...</td>\n",
       "      <td>...</td>\n",
       "    </tr>\n",
       "    <tr>\n",
       "      <th>218</th>\n",
       "      <td>219</td>\n",
       "      <td>Gabon</td>\n",
       "      <td>52.1</td>\n",
       "      <td>51.6</td>\n",
       "      <td>52.5</td>\n",
       "      <td>Africa</td>\n",
       "    </tr>\n",
       "    <tr>\n",
       "      <th>219</th>\n",
       "      <td>220</td>\n",
       "      <td>Swaziland</td>\n",
       "      <td>51.6</td>\n",
       "      <td>52.2</td>\n",
       "      <td>51.0</td>\n",
       "      <td>Africa</td>\n",
       "    </tr>\n",
       "    <tr>\n",
       "      <th>220</th>\n",
       "      <td>221</td>\n",
       "      <td>Afghanistan</td>\n",
       "      <td>51.3</td>\n",
       "      <td>49.9</td>\n",
       "      <td>52.7</td>\n",
       "      <td>Asia</td>\n",
       "    </tr>\n",
       "    <tr>\n",
       "      <th>221</th>\n",
       "      <td>222</td>\n",
       "      <td>Guinea-Bissau</td>\n",
       "      <td>50.6</td>\n",
       "      <td>48.6</td>\n",
       "      <td>52.7</td>\n",
       "      <td>Africa</td>\n",
       "    </tr>\n",
       "    <tr>\n",
       "      <th>222</th>\n",
       "      <td>223</td>\n",
       "      <td>Chad</td>\n",
       "      <td>50.2</td>\n",
       "      <td>49.0</td>\n",
       "      <td>51.3</td>\n",
       "      <td>Africa</td>\n",
       "    </tr>\n",
       "  </tbody>\n",
       "</table>\n",
       "<p>223 rows × 6 columns</p>\n",
       "</div>"
      ],
      "text/plain": [
       "     Rank        Country  Overall Life  Male Life  Female Life Continent\n",
       "0       1         Monaco          89.5       85.6         93.5    Europe\n",
       "1       2          Japan          85.0       81.7         88.5      Asia\n",
       "2       3      Singapore          85.0       82.3         87.8      Asia\n",
       "3       4   Macau; China          84.5       81.6         87.6      Asia\n",
       "4       5     San Marino          83.3       80.7         86.1    Europe\n",
       "..    ...            ...           ...        ...          ...       ...\n",
       "218   219          Gabon          52.1       51.6         52.5    Africa\n",
       "219   220      Swaziland          51.6       52.2         51.0    Africa\n",
       "220   221    Afghanistan          51.3       49.9         52.7      Asia\n",
       "221   222  Guinea-Bissau          50.6       48.6         52.7    Africa\n",
       "222   223           Chad          50.2       49.0         51.3    Africa\n",
       "\n",
       "[223 rows x 6 columns]"
      ]
     },
     "execution_count": 119,
     "metadata": {},
     "output_type": "execute_result"
    }
   ],
   "source": [
    "df"
   ]
  },
  {
   "cell_type": "code",
   "execution_count": 120,
   "id": "ea1db160",
   "metadata": {},
   "outputs": [
    {
     "name": "stdout",
     "output_type": "stream",
     "text": [
      "<class 'pandas.core.frame.DataFrame'>\n",
      "RangeIndex: 223 entries, 0 to 222\n",
      "Data columns (total 6 columns):\n",
      " #   Column        Non-Null Count  Dtype  \n",
      "---  ------        --------------  -----  \n",
      " 0   Rank          223 non-null    int64  \n",
      " 1   Country       223 non-null    object \n",
      " 2   Overall Life  223 non-null    float64\n",
      " 3   Male Life     223 non-null    float64\n",
      " 4   Female Life   223 non-null    float64\n",
      " 5   Continent     223 non-null    object \n",
      "dtypes: float64(3), int64(1), object(2)\n",
      "memory usage: 10.6+ KB\n"
     ]
    }
   ],
   "source": [
    "df.info()"
   ]
  },
  {
   "cell_type": "code",
   "execution_count": 121,
   "id": "23919747",
   "metadata": {},
   "outputs": [],
   "source": [
    "X = []\n",
    "for _ in df[\"Continent\"]:\n",
    "    if _ == \"Asia\":\n",
    "        X.append(_)\n",
    "        pass\n",
    "    else:\n",
    "        X.append(\"Non Asia\")\n",
    "    pass"
   ]
  },
  {
   "cell_type": "code",
   "execution_count": 122,
   "id": "55769606",
   "metadata": {},
   "outputs": [
    {
     "data": {
      "text/html": [
       "<div>\n",
       "<style scoped>\n",
       "    .dataframe tbody tr th:only-of-type {\n",
       "        vertical-align: middle;\n",
       "    }\n",
       "\n",
       "    .dataframe tbody tr th {\n",
       "        vertical-align: top;\n",
       "    }\n",
       "\n",
       "    .dataframe thead th {\n",
       "        text-align: right;\n",
       "    }\n",
       "</style>\n",
       "<table border=\"1\" class=\"dataframe\">\n",
       "  <thead>\n",
       "    <tr style=\"text-align: right;\">\n",
       "      <th></th>\n",
       "      <th>Rank</th>\n",
       "      <th>Country</th>\n",
       "      <th>Overall Life</th>\n",
       "      <th>Male Life</th>\n",
       "      <th>Female Life</th>\n",
       "      <th>Continent</th>\n",
       "    </tr>\n",
       "  </thead>\n",
       "  <tbody>\n",
       "    <tr>\n",
       "      <th>0</th>\n",
       "      <td>1</td>\n",
       "      <td>Monaco</td>\n",
       "      <td>89.5</td>\n",
       "      <td>85.6</td>\n",
       "      <td>93.5</td>\n",
       "      <td>Non Asia</td>\n",
       "    </tr>\n",
       "    <tr>\n",
       "      <th>1</th>\n",
       "      <td>2</td>\n",
       "      <td>Japan</td>\n",
       "      <td>85.0</td>\n",
       "      <td>81.7</td>\n",
       "      <td>88.5</td>\n",
       "      <td>Asia</td>\n",
       "    </tr>\n",
       "    <tr>\n",
       "      <th>2</th>\n",
       "      <td>3</td>\n",
       "      <td>Singapore</td>\n",
       "      <td>85.0</td>\n",
       "      <td>82.3</td>\n",
       "      <td>87.8</td>\n",
       "      <td>Asia</td>\n",
       "    </tr>\n",
       "    <tr>\n",
       "      <th>3</th>\n",
       "      <td>4</td>\n",
       "      <td>Macau; China</td>\n",
       "      <td>84.5</td>\n",
       "      <td>81.6</td>\n",
       "      <td>87.6</td>\n",
       "      <td>Asia</td>\n",
       "    </tr>\n",
       "    <tr>\n",
       "      <th>4</th>\n",
       "      <td>5</td>\n",
       "      <td>San Marino</td>\n",
       "      <td>83.3</td>\n",
       "      <td>80.7</td>\n",
       "      <td>86.1</td>\n",
       "      <td>Non Asia</td>\n",
       "    </tr>\n",
       "    <tr>\n",
       "      <th>...</th>\n",
       "      <td>...</td>\n",
       "      <td>...</td>\n",
       "      <td>...</td>\n",
       "      <td>...</td>\n",
       "      <td>...</td>\n",
       "      <td>...</td>\n",
       "    </tr>\n",
       "    <tr>\n",
       "      <th>218</th>\n",
       "      <td>219</td>\n",
       "      <td>Gabon</td>\n",
       "      <td>52.1</td>\n",
       "      <td>51.6</td>\n",
       "      <td>52.5</td>\n",
       "      <td>Non Asia</td>\n",
       "    </tr>\n",
       "    <tr>\n",
       "      <th>219</th>\n",
       "      <td>220</td>\n",
       "      <td>Swaziland</td>\n",
       "      <td>51.6</td>\n",
       "      <td>52.2</td>\n",
       "      <td>51.0</td>\n",
       "      <td>Non Asia</td>\n",
       "    </tr>\n",
       "    <tr>\n",
       "      <th>220</th>\n",
       "      <td>221</td>\n",
       "      <td>Afghanistan</td>\n",
       "      <td>51.3</td>\n",
       "      <td>49.9</td>\n",
       "      <td>52.7</td>\n",
       "      <td>Asia</td>\n",
       "    </tr>\n",
       "    <tr>\n",
       "      <th>221</th>\n",
       "      <td>222</td>\n",
       "      <td>Guinea-Bissau</td>\n",
       "      <td>50.6</td>\n",
       "      <td>48.6</td>\n",
       "      <td>52.7</td>\n",
       "      <td>Non Asia</td>\n",
       "    </tr>\n",
       "    <tr>\n",
       "      <th>222</th>\n",
       "      <td>223</td>\n",
       "      <td>Chad</td>\n",
       "      <td>50.2</td>\n",
       "      <td>49.0</td>\n",
       "      <td>51.3</td>\n",
       "      <td>Non Asia</td>\n",
       "    </tr>\n",
       "  </tbody>\n",
       "</table>\n",
       "<p>223 rows × 6 columns</p>\n",
       "</div>"
      ],
      "text/plain": [
       "     Rank        Country  Overall Life  Male Life  Female Life Continent\n",
       "0       1         Monaco          89.5       85.6         93.5  Non Asia\n",
       "1       2          Japan          85.0       81.7         88.5      Asia\n",
       "2       3      Singapore          85.0       82.3         87.8      Asia\n",
       "3       4   Macau; China          84.5       81.6         87.6      Asia\n",
       "4       5     San Marino          83.3       80.7         86.1  Non Asia\n",
       "..    ...            ...           ...        ...          ...       ...\n",
       "218   219          Gabon          52.1       51.6         52.5  Non Asia\n",
       "219   220      Swaziland          51.6       52.2         51.0  Non Asia\n",
       "220   221    Afghanistan          51.3       49.9         52.7      Asia\n",
       "221   222  Guinea-Bissau          50.6       48.6         52.7  Non Asia\n",
       "222   223           Chad          50.2       49.0         51.3  Non Asia\n",
       "\n",
       "[223 rows x 6 columns]"
      ]
     },
     "execution_count": 122,
     "metadata": {},
     "output_type": "execute_result"
    }
   ],
   "source": [
    "df[\"Continent\"] = X\n",
    "df"
   ]
  },
  {
   "cell_type": "code",
   "execution_count": 123,
   "id": "a9f63b6e",
   "metadata": {},
   "outputs": [],
   "source": [
    "df.drop(\"Overall Life\",axis=1,inplace=True)"
   ]
  },
  {
   "cell_type": "code",
   "execution_count": 124,
   "id": "bfa76ca0",
   "metadata": {},
   "outputs": [],
   "source": [
    "df.drop(\"Rank\",axis=1,inplace=True)\n",
    "df.drop(\"Country\",axis=1,inplace=True)"
   ]
  },
  {
   "cell_type": "code",
   "execution_count": 125,
   "id": "9599c001",
   "metadata": {},
   "outputs": [
    {
     "name": "stdout",
     "output_type": "stream",
     "text": [
      "<class 'pandas.core.frame.DataFrame'>\n",
      "RangeIndex: 223 entries, 0 to 222\n",
      "Data columns (total 3 columns):\n",
      " #   Column       Non-Null Count  Dtype  \n",
      "---  ------       --------------  -----  \n",
      " 0   Male Life    223 non-null    float64\n",
      " 1   Female Life  223 non-null    float64\n",
      " 2   Continent    223 non-null    object \n",
      "dtypes: float64(2), object(1)\n",
      "memory usage: 5.4+ KB\n"
     ]
    }
   ],
   "source": [
    "df.info()"
   ]
  },
  {
   "cell_type": "code",
   "execution_count": 132,
   "id": "dc0b11e3",
   "metadata": {},
   "outputs": [],
   "source": [
    "import numpy as np\n",
    "from sklearn.pipeline import Pipeline\n",
    "from sklearn.preprocessing import StandardScaler\n",
    "from sklearn.svm import LinearSVC"
   ]
  },
  {
   "cell_type": "code",
   "execution_count": 141,
   "id": "e82d7880",
   "metadata": {},
   "outputs": [
    {
     "name": "stderr",
     "output_type": "stream",
     "text": [
      "C:\\Users\\HP\\anaconda3\\lib\\site-packages\\sklearn\\svm\\_base.py:1206: ConvergenceWarning: Liblinear failed to converge, increase the number of iterations.\n",
      "  warnings.warn(\n"
     ]
    },
    {
     "data": {
      "text/plain": [
       "LinearSVC(C=10000, loss='hinge')"
      ]
     },
     "execution_count": 141,
     "metadata": {},
     "output_type": "execute_result"
    }
   ],
   "source": [
    "y = df[\"Continent\"]\n",
    "X = df.drop(\"Continent\",axis=1)\n",
    "\n",
    "svm = LinearSVC(C = 10000, loss=\"hinge\")\n",
    "\n",
    "\n",
    "\n",
    "svm.fit(X,y)"
   ]
  },
  {
   "cell_type": "code",
   "execution_count": 142,
   "id": "1cda9429",
   "metadata": {},
   "outputs": [
    {
     "name": "stderr",
     "output_type": "stream",
     "text": [
      "C:\\Users\\HP\\anaconda3\\lib\\site-packages\\sklearn\\base.py:450: UserWarning: X does not have valid feature names, but StandardScaler was fitted with feature names\n",
      "  warnings.warn(\n"
     ]
    },
    {
     "data": {
      "text/plain": [
       "<matplotlib.collections.PathCollection at 0x1648efc0460>"
      ]
     },
     "execution_count": 142,
     "metadata": {},
     "output_type": "execute_result"
    },
    {
     "data": {
      "image/png": "[encoded data removed]",
      "text/plain": [
       "<Figure size 640x480 with 1 Axes>"
      ]
     },
     "metadata": {},
     "output_type": "display_data"
    }
   ],
   "source": [
    "svm_clf.predict([X.iloc[54]])\n",
    "import matplotlib.pyplot as plt\n",
    "plt.scatter(X[X.columns[0]], X[X.columns[1]], c=y, cmap='winter')"
   ]
  },
  {
   "cell_type": "code",
   "execution_count": 143,
   "id": "c56e65b2",
   "metadata": {},
   "outputs": [],
   "source": [
    "y.replace(\"Asia\",\"brown\",inplace=True)\n",
    "y.replace(\"Non Asia\",\"blue\",inplace=True)"
   ]
  },
  {
   "cell_type": "code",
   "execution_count": 144,
   "id": "5205e35d",
   "metadata": {},
   "outputs": [
    {
     "data": {
      "text/plain": [
       "[<matplotlib.lines.Line2D at 0x1648b18ffa0>]"
      ]
     },
     "execution_count": 144,
     "metadata": {},
     "output_type": "execute_result"
    },
    {
     "data": {
      "image/png": "[encoded data removed]",
      "text/plain": [
       "<Figure size 640x480 with 1 Axes>"
      ]
     },
     "metadata": {},
     "output_type": "display_data"
    }
   ],
   "source": [
    "def f(x, w, b, c=0):\n",
    "    return (-w[0] * x - b + c) / w[1]\n",
    "plt.scatter(X[X.columns[0]], X[X.columns[1]], c=y, cmap='winter')\n",
    "# w.x + b = 0\n",
    "a0 = -4; a1 = f(a0, svm.coef_[0], svm.intercept_)\n",
    "b0 = 4; b1 = f(b0, svm.coef_[0], svm.intercept_)\n",
    "plt.plot([a0,b0], [a1,b1], 'k')\n",
    "# w.x + b = 1\n",
    "a0 = -4; a1 = f(a0, svm.coef_[0], svm.intercept_, 1)\n",
    "b0 = 4; b1 = f(b0, svm.coef_[0], svm.intercept_, 1)\n",
    "plt.plot([a0,b0], [a1,b1], 'k--')\n",
    "# w.x + b = -1\n",
    "a0 = -4; a1 = f(a0, svm.coef_[0], svm.intercept_, -1)\n",
    "b0 = 4; b1 = f(b0, svm.coef_[0], svm.intercept_, -1)\n",
    "plt.plot([a0,b0], [a1,b1], 'k--')"
   ]
  },
  {
   "cell_type": "code",
   "execution_count": null,
   "id": "edb3024f",
   "metadata": {},
   "outputs": [],
   "source": []
  }
 ],
 "metadata": {
  "kernelspec": {
   "display_name": "Python 3 (ipykernel)",
   "language": "python",
   "name": "python3"
  },
  "language_info": {
   "codemirror_mode": {
    "name": "ipython",
    "version": 3
   },
   "file_extension": ".py",
   "mimetype": "text/x-python",
   "name": "python",
   "nbconvert_exporter": "python",
   "pygments_lexer": "ipython3",
   "version": "3.9.13"
  }
 },
 "nbformat": 4,
 "nbformat_minor": 5
}
